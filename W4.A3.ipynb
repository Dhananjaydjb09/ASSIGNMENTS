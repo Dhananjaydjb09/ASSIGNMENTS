{
 "cells": [
  {
   "cell_type": "markdown",
   "id": "c2dc5d74-9f59-47db-9b1b-d4662e97904d",
   "metadata": {},
   "source": [
    "Q1. What is Abstraction in OOps? Explain with an example."
   ]
  },
  {
   "cell_type": "markdown",
   "id": "b68bd433-6274-46b3-b7b6-d290c90821d0",
   "metadata": {},
   "source": [
    "Abstraction in python is defined as a process of handling complexity by hiding unnecessary information from the user."
   ]
  },
  {
   "cell_type": "code",
   "execution_count": 1,
   "id": "3ef1ba27-d6ec-492f-8680-241d111f3df3",
   "metadata": {},
   "outputs": [],
   "source": [
    "import abc\n",
    "class apple :\n",
    "    @abc.abstractmethod\n",
    "    def apple_product_name(self):\n",
    "        pass\n",
    "    \n",
    "    @abc.abstractmethod\n",
    "    def apple_product_price(self):\n",
    "        pass\n",
    "    \n",
    "    @abc.abstractmethod\n",
    "    def apple_product_launch_date(self):\n",
    "        pass\n",
    "    "
   ]
  },
  {
   "cell_type": "code",
   "execution_count": 6,
   "id": "234cba3c-2c10-41d0-b15a-891eedc1d2d4",
   "metadata": {},
   "outputs": [],
   "source": [
    "class apple_details(apple) :\n",
    "    def apple_product_name(self):\n",
    "        return \"this is the method of taking name of product\"\n",
    "    \n",
    "    def apple_product_price(self):\n",
    "        return \"this is the method of taking price\"\n",
    "    \n",
    "    def apple_product_launch_date(self):\n",
    "        return\"this is taking launch date\"\n",
    "    "
   ]
  },
  {
   "cell_type": "code",
   "execution_count": 7,
   "id": "36c6db75-abc7-4eb2-b71f-9668d2dc36d1",
   "metadata": {},
   "outputs": [],
   "source": [
    "class banana(apple) :\n",
    "    def apple_product_name(self):\n",
    "        return \"this is the method of taking name of product of banana\"\n",
    "    \n",
    "    def apple_product_price(self):\n",
    "        return \"this is the method of taking price of banana\"\n",
    "    \n",
    "    def apple_product_launch_date(self):\n",
    "        return\"this is taking launch date of banana\""
   ]
  },
  {
   "cell_type": "code",
   "execution_count": 9,
   "id": "e4028357-55b0-4c5f-b3fc-23e738811026",
   "metadata": {},
   "outputs": [
    {
     "data": {
      "text/plain": [
       "'this is the method of taking name of product of banana'"
      ]
     },
     "execution_count": 9,
     "metadata": {},
     "output_type": "execute_result"
    }
   ],
   "source": [
    "abc = banana()\n",
    "abc.apple_product_name()"
   ]
  },
  {
   "cell_type": "code",
   "execution_count": 12,
   "id": "66b0eea9-0d4e-4cc2-8dc2-ac777151bff1",
   "metadata": {},
   "outputs": [
    {
     "data": {
      "text/plain": [
       "'this is the method of taking price'"
      ]
     },
     "execution_count": 12,
     "metadata": {},
     "output_type": "execute_result"
    }
   ],
   "source": [
    "abc = apple_details()\n",
    "abc.apple_product_price()"
   ]
  },
  {
   "cell_type": "markdown",
   "id": "42909634-8f43-48eb-88ec-580c4ac40643",
   "metadata": {},
   "source": [
    "Q2. Differentiate between Abstraction and Encapsulation. Explain with an example.\n",
    "\n",
    "\n"
   ]
  },
  {
   "cell_type": "markdown",
   "id": "5cbc4371-9a89-4450-ac5e-26c7cb4b493a",
   "metadata": {},
   "source": [
    "Abstraction is the method of hiding the unwanted information. Whereas encapsulation is a method to hide the data in a single entity or unit along with a method to protect information from outside."
   ]
  },
  {
   "cell_type": "code",
   "execution_count": 14,
   "id": "a15de092-71d4-482f-a5da-52dae916c7d1",
   "metadata": {},
   "outputs": [],
   "source": [
    "import abc\n",
    "class pwskills :\n",
    "    \n",
    "    @abc.abstractmethod\n",
    "    def students_details(self) :\n",
    "        pass\n",
    "    \n",
    "    @abc.abstractmethod\n",
    "    def student_assignment(self):\n",
    "        pass\n",
    "    \n",
    "    @abc.abstractmethod\n",
    "    def student_marks(self) :\n",
    "        pass"
   ]
  },
  {
   "cell_type": "code",
   "execution_count": 15,
   "id": "95c3591f-39c5-4a44-8c40-b82d23eeec82",
   "metadata": {},
   "outputs": [],
   "source": [
    "class student_details(pwskills) :\n",
    "    \n",
    "    def students_details(self):\n",
    "        return \"this is a method for taking student deatls\"\n",
    "    \n",
    "    def student_assignment(self):\n",
    "        return \"this is a method for assignment details for a particular student\""
   ]
  },
  {
   "cell_type": "code",
   "execution_count": null,
   "id": "8ef28a7c-63d7-4b59-a66e-bd970ddc66ba",
   "metadata": {},
   "outputs": [],
   "source": [
    "class data_science_masters(pwskills) :\n",
    "    \n",
    "    def students_details(self) :\n",
    "        return \"this will return a student details for data science masters \"\n",
    "    \n",
    "    def students_assignment(self) :\n",
    "        return \"this will give you a student assignment details for data science masters\""
   ]
  },
  {
   "cell_type": "code",
   "execution_count": 17,
   "id": "9caffc5a-cc09-448e-990b-1be94ad7ce17",
   "metadata": {},
   "outputs": [
    {
     "data": {
      "text/plain": [
       "'this will give you a student assignment details for data science masters'"
      ]
     },
     "execution_count": 17,
     "metadata": {},
     "output_type": "execute_result"
    }
   ],
   "source": [
    "dsm = data_science_masters()\n",
    "dsm.students_assignment()"
   ]
  },
  {
   "cell_type": "code",
   "execution_count": 18,
   "id": "ef3d99ce-cbe2-4025-9fc3-509d9fd95240",
   "metadata": {},
   "outputs": [
    {
     "data": {
      "text/plain": [
       "'this is a method for taking student deatls'"
      ]
     },
     "execution_count": 18,
     "metadata": {},
     "output_type": "execute_result"
    }
   ],
   "source": [
    "sd = student_details()\n",
    "sd.students_details()"
   ]
  },
  {
   "cell_type": "code",
   "execution_count": 20,
   "id": "13229417-15f7-4189-b034-2ad58673bd92",
   "metadata": {},
   "outputs": [],
   "source": [
    "class bank_account :\n",
    "    def __init__(self, balance) :\n",
    "        self.__balance = balance\n",
    "        \n",
    "    def deposit(self, amount) :\n",
    "        self.__balance = self.__balance + amount\n",
    "        \n",
    "    def withdraw(self, amount) :\n",
    "        if self.__balance >= amount :\n",
    "            self.__balance = self.__balance - amount\n",
    "            return True\n",
    "        else :\n",
    "            return False\n",
    "        \n",
    "    def get_balance(self) :\n",
    "        return self.__balance"
   ]
  },
  {
   "cell_type": "code",
   "execution_count": 21,
   "id": "d7638aa1-844f-47f9-a946-fb5abf3897fb",
   "metadata": {},
   "outputs": [],
   "source": [
    "dhananjay = bank_account(1000)"
   ]
  },
  {
   "cell_type": "code",
   "execution_count": 22,
   "id": "529d5202-c7ec-47a0-bc47-938041782321",
   "metadata": {},
   "outputs": [
    {
     "data": {
      "text/plain": [
       "1000"
      ]
     },
     "execution_count": 22,
     "metadata": {},
     "output_type": "execute_result"
    }
   ],
   "source": [
    "dhananjay.get_balance()"
   ]
  },
  {
   "cell_type": "code",
   "execution_count": 23,
   "id": "ca08255f-310c-42a5-b5bb-5b1e3d2e2f8b",
   "metadata": {},
   "outputs": [],
   "source": [
    "dhananjay.deposit(5000)"
   ]
  },
  {
   "cell_type": "code",
   "execution_count": 24,
   "id": "e5e43eb9-8966-4d1f-b778-a85f4ab0dde3",
   "metadata": {},
   "outputs": [
    {
     "data": {
      "text/plain": [
       "6000"
      ]
     },
     "execution_count": 24,
     "metadata": {},
     "output_type": "execute_result"
    }
   ],
   "source": [
    "dhananjay.get_balance()"
   ]
  },
  {
   "cell_type": "code",
   "execution_count": 25,
   "id": "cae1c24f-0ef4-42df-947b-2ce0a8fc9d00",
   "metadata": {},
   "outputs": [
    {
     "data": {
      "text/plain": [
       "False"
      ]
     },
     "execution_count": 25,
     "metadata": {},
     "output_type": "execute_result"
    }
   ],
   "source": [
    "dhananjay.withdraw(7000)"
   ]
  },
  {
   "cell_type": "code",
   "execution_count": 26,
   "id": "1f7ce35d-173b-4ab5-8a28-464b36e50ac7",
   "metadata": {},
   "outputs": [
    {
     "data": {
      "text/plain": [
       "True"
      ]
     },
     "execution_count": 26,
     "metadata": {},
     "output_type": "execute_result"
    }
   ],
   "source": [
    "dhananjay.withdraw(2000)\n"
   ]
  },
  {
   "cell_type": "code",
   "execution_count": 27,
   "id": "752eb5c2-5288-4aaf-aa4a-84625c5c6ac5",
   "metadata": {},
   "outputs": [
    {
     "data": {
      "text/plain": [
       "4000"
      ]
     },
     "execution_count": 27,
     "metadata": {},
     "output_type": "execute_result"
    }
   ],
   "source": [
    "dhananjay.get_balance()"
   ]
  },
  {
   "cell_type": "markdown",
   "id": "f1921736-5859-444f-8a77-1b95675512e7",
   "metadata": {},
   "source": [
    "Q3. What is abc module in python? Why is it used?"
   ]
  },
  {
   "cell_type": "markdown",
   "id": "4da4e01b-b027-42f0-95d1-3e852222883b",
   "metadata": {},
   "source": [
    "The 'abc' module in Python library provides the infrastructure for defining custom abstract base classes. 'abc' works by marking methods of the base class as abstract. This is done by @absttractmethod decorator."
   ]
  },
  {
   "cell_type": "markdown",
   "id": "d1abac31-5ba5-4673-9f97-ad8de8a554f5",
   "metadata": {},
   "source": [
    "Q4. How can we achieve data abstraction?"
   ]
  },
  {
   "cell_type": "markdown",
   "id": "23f5ca07-a742-4ec1-b2de-3f2b19169ed2",
   "metadata": {},
   "source": [
    "An abstraction can be achieved using classes. A class is used to group all the data members and member functions into a single unit by using the access specifiers. A class has the responsibility to determine which data member is to be visible outside and which is not."
   ]
  },
  {
   "cell_type": "markdown",
   "id": "681dec2e-67d8-4568-b718-6c401ae15115",
   "metadata": {},
   "source": [
    "Q5. Can we create an instance of an abstract class? Explain your answer."
   ]
  },
  {
   "cell_type": "markdown",
   "id": "38c3e9f1-c5b4-4ed7-96e0-0bb8e306569a",
   "metadata": {},
   "source": [
    "Abstract classes cannot be instantiated, but they can be subclassed. When an abstract class is subclassed, the subclass usually provides implementations for all of the abstract methods in its parent class. However, if it does not, then the subclass must also be declared abstract ."
   ]
  },
  {
   "cell_type": "code",
   "execution_count": null,
   "id": "3e941829-9c34-4b34-975d-7a571e8d9c7c",
   "metadata": {},
   "outputs": [],
   "source": []
  }
 ],
 "metadata": {
  "kernelspec": {
   "display_name": "Python 3 (ipykernel)",
   "language": "python",
   "name": "python3"
  },
  "language_info": {
   "codemirror_mode": {
    "name": "ipython",
    "version": 3
   },
   "file_extension": ".py",
   "mimetype": "text/x-python",
   "name": "python",
   "nbconvert_exporter": "python",
   "pygments_lexer": "ipython3",
   "version": "3.10.8"
  }
 },
 "nbformat": 4,
 "nbformat_minor": 5
}
