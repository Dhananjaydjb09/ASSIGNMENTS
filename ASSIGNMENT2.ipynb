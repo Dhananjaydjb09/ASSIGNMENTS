{
 "cells": [
  {
   "cell_type": "markdown",
   "id": "5b4d6dee-42c6-4647-9a7f-629895e12c7d",
   "metadata": {},
   "source": [
    "Q1. How do you comment code in Python? What are the different types of comments?"
   ]
  },
  {
   "cell_type": "markdown",
   "id": "a9679d4a-3109-4559-8971-75e22deb6aa5",
   "metadata": {},
   "source": [
    "Answer - Comments in python start with #(symbol).\n",
    "There are three types of comments in Python:\n",
    "\n",
    "Single line Comments - Python single-line comment starts with the hashtag symbol (#) with no white spaces and lasts till the end of the line\n",
    "Multiline Comments -We can multiple hashtags (#) to write multiline comments in Python. Each and every line will be considered as a single-line comment.\n",
    "Docstring Comments - Python docstring is the string literals with triple quotes that are appeared right after the function."
   ]
  },
  {
   "cell_type": "markdown",
   "id": "4c018b9b-cbb1-4a13-b470-808110832df0",
   "metadata": {},
   "source": [
    "Q2. What are variables in Python? How do you declare and assign values to variables?"
   ]
  },
  {
   "cell_type": "code",
   "execution_count": null,
   "id": "328445fe-c4e8-4f17-bc95-5f9302e97dce",
   "metadata": {},
   "outputs": [],
   "source": [
    "#Answer - A variable is a string of characters and numbers associated with a piece of information. The assignment operator, denoted by the “=” symbol, is the operator that is used to assign values to variables in Python.\n",
    "\n",
    "a = 4"
   ]
  },
  {
   "cell_type": "markdown",
   "id": "b186403c-e455-4272-b575-bcc76a663440",
   "metadata": {},
   "source": [
    "Q3. How do you convert one data type to another in Python?"
   ]
  },
  {
   "cell_type": "code",
   "execution_count": 5,
   "id": "705cc2fb-30ed-4aad-ab71-8b5928939c84",
   "metadata": {},
   "outputs": [
    {
     "data": {
      "text/plain": [
       "str"
      ]
     },
     "execution_count": 5,
     "metadata": {},
     "output_type": "execute_result"
    }
   ],
   "source": [
    "#Answer - Python defines type conversion functions like int(), float(), str() to directly convert one data type into another.\n",
    "a = '4'\n",
    "type(a)\n"
   ]
  },
  {
   "cell_type": "code",
   "execution_count": 6,
   "id": "3f5083e6-88ee-45b7-9c7d-664faa0b682a",
   "metadata": {},
   "outputs": [],
   "source": [
    "a = int('4')"
   ]
  },
  {
   "cell_type": "code",
   "execution_count": 7,
   "id": "f7aa97bf-a799-499d-b820-b459deeec60e",
   "metadata": {},
   "outputs": [
    {
     "data": {
      "text/plain": [
       "int"
      ]
     },
     "execution_count": 7,
     "metadata": {},
     "output_type": "execute_result"
    }
   ],
   "source": [
    "type(a)"
   ]
  },
  {
   "cell_type": "markdown",
   "id": "804b301a-cb73-403c-b828-5e5e5f86a99b",
   "metadata": {},
   "source": [
    "Q4. How do you write and execute a Python script from the command line?"
   ]
  },
  {
   "cell_type": "code",
   "execution_count": 12,
   "id": "9229b8eb-51e6-43db-ad10-2fe9f6284267",
   "metadata": {},
   "outputs": [],
   "source": [
    "#Answer - You need to open a command line and type the word python followed by the path to your script file \n",
    "python first_script.py\n",
    "Hello World!\n"
   ]
  },
  {
   "cell_type": "markdown",
   "id": "3e0d8f05-2e81-487e-82f4-b0c3e829ac07",
   "metadata": {},
   "source": [
    "Q5. Given a list my_list = [1, 2, 3, 4, 5], write the code to slice the list and obtain the sub-list [2, 3]."
   ]
  },
  {
   "cell_type": "code",
   "execution_count": 18,
   "id": "35e1f82a-f5e4-45ec-a7e0-91421c9a8bb0",
   "metadata": {},
   "outputs": [
    {
     "data": {
      "text/plain": [
       "[2, 3]"
      ]
     },
     "execution_count": 18,
     "metadata": {},
     "output_type": "execute_result"
    }
   ],
   "source": [
    "my_list = [1,2,3,4,5]\n",
    "my_list[1 : 3]"
   ]
  },
  {
   "cell_type": "markdown",
   "id": "a8166284-7df8-4bad-81a0-27a2a98ef192",
   "metadata": {},
   "source": [
    "Q6. What is a complex number in mathematics, and how is it represented in Python?"
   ]
  },
  {
   "cell_type": "code",
   "execution_count": 25,
   "id": "e24e3161-214a-4b00-8edd-37968f9f7f63",
   "metadata": {},
   "outputs": [
    {
     "data": {
      "text/plain": [
       "complex"
      ]
     },
     "execution_count": 25,
     "metadata": {},
     "output_type": "execute_result"
    }
   ],
   "source": [
    "#Answer - In mathematics a complex number is a number that can be expressed in the form of a + ib, where a represents the real part, and b is the imaginary part\n",
    "#In python it is rpresented by  \"x + yj\"\n",
    "a = 5 + 6j\n",
    "type(a)"
   ]
  },
  {
   "cell_type": "markdown",
   "id": "0587572f-03d9-4935-8be8-0803017244a9",
   "metadata": {},
   "source": [
    "Q7. What is the correct way to declare a variable named age and assign the value 25 to it?"
   ]
  },
  {
   "cell_type": "code",
   "execution_count": 26,
   "id": "9414ca0c-9b33-4583-84ef-3416983fbef2",
   "metadata": {},
   "outputs": [],
   "source": [
    "age = 25"
   ]
  },
  {
   "cell_type": "code",
   "execution_count": 27,
   "id": "66214e77-d6ac-4365-ac7d-4eb9c554e477",
   "metadata": {},
   "outputs": [
    {
     "data": {
      "text/plain": [
       "int"
      ]
     },
     "execution_count": 27,
     "metadata": {},
     "output_type": "execute_result"
    }
   ],
   "source": [
    "type(age)"
   ]
  },
  {
   "cell_type": "markdown",
   "id": "84a3a7cf-3eb6-4254-98ab-fd0fc66261f5",
   "metadata": {},
   "source": [
    "Q8. Declare a variable named price and assign the value 9.99 to it. What data type does this variable\n",
    "belong to?"
   ]
  },
  {
   "cell_type": "code",
   "execution_count": 28,
   "id": "54c479c1-ad41-4b55-b459-28dcaf373461",
   "metadata": {},
   "outputs": [],
   "source": [
    "price = 9.99"
   ]
  },
  {
   "cell_type": "code",
   "execution_count": 29,
   "id": "c5119843-a33a-44c4-ac71-9560b4c65779",
   "metadata": {},
   "outputs": [
    {
     "data": {
      "text/plain": [
       "float"
      ]
     },
     "execution_count": 29,
     "metadata": {},
     "output_type": "execute_result"
    }
   ],
   "source": [
    "type(price)"
   ]
  },
  {
   "cell_type": "markdown",
   "id": "7fc6aec4-6695-4072-8a2f-9bbdec396751",
   "metadata": {},
   "source": [
    "Q9. Create a variable named name and assign your full name to it as a string. How would you print the\n",
    "value of this variable?"
   ]
  },
  {
   "cell_type": "code",
   "execution_count": 30,
   "id": "3bd37c26-b508-4bbd-913f-8db5599efe38",
   "metadata": {},
   "outputs": [],
   "source": [
    "name = 'dhananjay bhuvarya'"
   ]
  },
  {
   "cell_type": "code",
   "execution_count": 31,
   "id": "e52b2f0a-b8f1-4d7c-9e33-395575cf382d",
   "metadata": {},
   "outputs": [
    {
     "name": "stdout",
     "output_type": "stream",
     "text": [
      "dhananjay bhuvarya\n"
     ]
    }
   ],
   "source": [
    "print(name)"
   ]
  },
  {
   "cell_type": "markdown",
   "id": "db85a440-e220-489d-adba-f18f45484019",
   "metadata": {},
   "source": [
    "Q10. Given the string \"Hello, World!\", extract the substring \"World\"."
   ]
  },
  {
   "cell_type": "code",
   "execution_count": 32,
   "id": "8d7d2203-bf3b-45e3-b5ce-c83cbde91166",
   "metadata": {},
   "outputs": [],
   "source": [
    "a = \"Hello, World!\""
   ]
  },
  {
   "cell_type": "code",
   "execution_count": 35,
   "id": "28d2d6e1-6c84-4c99-b57f-9d7a164cc546",
   "metadata": {},
   "outputs": [
    {
     "data": {
      "text/plain": [
       "'World'"
      ]
     },
     "execution_count": 35,
     "metadata": {},
     "output_type": "execute_result"
    }
   ],
   "source": [
    "a[7:12]"
   ]
  },
  {
   "cell_type": "markdown",
   "id": "f4a02e4a-ec82-442b-bb41-233b02c5b764",
   "metadata": {},
   "source": [
    "Q11. Create a variable named \"is_student\" and assign it a boolean value indicating whether you are\n",
    "currently a student or not."
   ]
  },
  {
   "cell_type": "code",
   "execution_count": 47,
   "id": "584d5b65-42be-4ffe-b0ee-194f4533a71c",
   "metadata": {},
   "outputs": [],
   "source": [
    "\"is_student\" = True\n"
   ]
  },
  {
   "cell_type": "code",
   "execution_count": 48,
   "id": "59ceb8f1-741c-4d42-bad0-af03123102e5",
   "metadata": {},
   "outputs": [
    {
     "data": {
      "text/plain": [
       "True"
      ]
     },
     "execution_count": 48,
     "metadata": {},
     "output_type": "execute_result"
    }
   ],
   "source": [
    "is_student"
   ]
  },
  {
   "cell_type": "code",
   "execution_count": null,
   "id": "d2d1817b-efc3-496b-b0c3-79810714b434",
   "metadata": {},
   "outputs": [],
   "source": []
  }
 ],
 "metadata": {
  "kernelspec": {
   "display_name": "Python 3 (ipykernel)",
   "language": "python",
   "name": "python3"
  },
  "language_info": {
   "codemirror_mode": {
    "name": "ipython",
    "version": 3
   },
   "file_extension": ".py",
   "mimetype": "text/x-python",
   "name": "python",
   "nbconvert_exporter": "python",
   "pygments_lexer": "ipython3",
   "version": "3.10.8"
  }
 },
 "nbformat": 4,
 "nbformat_minor": 5
}
