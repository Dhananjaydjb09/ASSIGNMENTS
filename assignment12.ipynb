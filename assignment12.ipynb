{
 "cells": [
  {
   "attachments": {},
   "cell_type": "markdown",
   "id": "357caa53-6011-4c58-b000-e20ac2ac8701",
   "metadata": {},
   "source": [
    "Q1. Create one variable containing following type of data:\n",
    "(i) string\n",
    "(ii) list\n",
    "(iii) float\n",
    "(iv) tuple"
   ]
  },
  {
   "cell_type": "code",
   "execution_count": 1,
   "id": "0c8e4241-01d6-4a65-a8dd-cf7e11ba4f14",
   "metadata": {},
   "outputs": [],
   "source": [
    "a = 'dhananjay'"
   ]
  },
  {
   "cell_type": "code",
   "execution_count": 2,
   "id": "c615430e-27db-4cbf-bdf0-972c45214e3e",
   "metadata": {},
   "outputs": [],
   "source": [
    "b = 5"
   ]
  },
  {
   "cell_type": "code",
   "execution_count": 3,
   "id": "856f8067-cd8b-42ea-a205-700f8c891e75",
   "metadata": {},
   "outputs": [],
   "source": [
    "c = 5.66"
   ]
  },
  {
   "cell_type": "code",
   "execution_count": 4,
   "id": "cc0f4e7f-7df4-463a-9ece-49262e88416b",
   "metadata": {},
   "outputs": [],
   "source": [
    "T = (1,2,3,'abc',8.9,'z')"
   ]
  },
  {
   "attachments": {},
   "cell_type": "markdown",
   "id": "5a3367ce-2643-4f02-9f94-c2964a552ac8",
   "metadata": {},
   "source": [
    "Q2. Given are some following variables containing data:\n",
    "(i) var1 = ‘ ‘\n",
    "(ii) var2 = ‘[ DS , ML , Python]’\n",
    "(iii) var3 = [ ‘DS’ , ’ML’ , ‘Python’ ]\n",
    "(iv) var4 = 1.\n",
    "What will be the data type of the above given variable."
   ]
  },
  {
   "cell_type": "code",
   "execution_count": 5,
   "id": "e8d30a3a-5a1f-438c-bbe5-350c9e30149f",
   "metadata": {},
   "outputs": [],
   "source": [
    "var1 = ''"
   ]
  },
  {
   "cell_type": "code",
   "execution_count": 6,
   "id": "b81f42ae-ae0d-439e-bc60-4c8121c4a55f",
   "metadata": {},
   "outputs": [
    {
     "data": {
      "text/plain": [
       "str"
      ]
     },
     "execution_count": 6,
     "metadata": {},
     "output_type": "execute_result"
    }
   ],
   "source": [
    "type(var1)"
   ]
  },
  {
   "cell_type": "code",
   "execution_count": 7,
   "id": "8a3fd305-7558-451e-9265-1e62b4c4f339",
   "metadata": {},
   "outputs": [],
   "source": [
    "var2 = '[ DS , ML , Python]'"
   ]
  },
  {
   "cell_type": "code",
   "execution_count": 8,
   "id": "253aba9e-24ec-495a-8502-358c71e2d953",
   "metadata": {},
   "outputs": [
    {
     "data": {
      "text/plain": [
       "str"
      ]
     },
     "execution_count": 8,
     "metadata": {},
     "output_type": "execute_result"
    }
   ],
   "source": [
    "type(var2)"
   ]
  },
  {
   "cell_type": "code",
   "execution_count": 9,
   "id": "3cb78296-3034-4fc5-88af-2dc9964a0848",
   "metadata": {},
   "outputs": [],
   "source": [
    "var3 = [ 'DS' , 'ML' , 'Python' ]"
   ]
  },
  {
   "cell_type": "code",
   "execution_count": 10,
   "id": "f9b704a4-0d8d-4656-a13a-e0fc7a9ab561",
   "metadata": {},
   "outputs": [
    {
     "data": {
      "text/plain": [
       "list"
      ]
     },
     "execution_count": 10,
     "metadata": {},
     "output_type": "execute_result"
    }
   ],
   "source": [
    "type(var3)"
   ]
  },
  {
   "cell_type": "code",
   "execution_count": 11,
   "id": "84e68da8-56e1-4dba-b75a-ac9cb1dd859a",
   "metadata": {},
   "outputs": [],
   "source": [
    "var4 = 1"
   ]
  },
  {
   "cell_type": "code",
   "execution_count": 12,
   "id": "183f9d73-8bf6-4f9a-99a4-af9b5119deb7",
   "metadata": {},
   "outputs": [
    {
     "data": {
      "text/plain": [
       "int"
      ]
     },
     "execution_count": 12,
     "metadata": {},
     "output_type": "execute_result"
    }
   ],
   "source": [
    "type(var4)"
   ]
  },
  {
   "cell_type": "code",
   "execution_count": null,
   "id": "7b72abee-b482-40d5-bca5-b6ff82936fa3",
   "metadata": {},
   "outputs": [],
   "source": []
  },
  {
   "attachments": {},
   "cell_type": "markdown",
   "id": "a039bc7b-0594-4568-a798-dc1e3071cd2b",
   "metadata": {},
   "source": [
    "Q3. Explain the use of the following operators using an example:\n",
    "(i) /\n",
    "(ii) %\n",
    "(iii) //\n",
    "(iv) **"
   ]
  },
  {
   "cell_type": "code",
   "execution_count": 13,
   "id": "c800241a-7713-4836-9832-27a46031e80d",
   "metadata": {},
   "outputs": [],
   "source": [
    "#(i) / It is a division operator"
   ]
  },
  {
   "cell_type": "code",
   "execution_count": 14,
   "id": "cc17f424-7804-4891-a03d-dfcc7d0a1bd5",
   "metadata": {},
   "outputs": [
    {
     "data": {
      "text/plain": [
       "2.0"
      ]
     },
     "execution_count": 14,
     "metadata": {},
     "output_type": "execute_result"
    }
   ],
   "source": [
    "4/2"
   ]
  },
  {
   "cell_type": "code",
   "execution_count": 15,
   "id": "0e11e5fd-8446-489d-a904-2af5f0038080",
   "metadata": {},
   "outputs": [],
   "source": [
    "#(ii) % It is a modulous operator(gives remainder)"
   ]
  },
  {
   "cell_type": "code",
   "execution_count": 16,
   "id": "5a9a0652-0abb-4977-a120-3dcaf12d2cae",
   "metadata": {},
   "outputs": [
    {
     "data": {
      "text/plain": [
       "3"
      ]
     },
     "execution_count": 16,
     "metadata": {},
     "output_type": "execute_result"
    }
   ],
   "source": [
    "8%5"
   ]
  },
  {
   "cell_type": "code",
   "execution_count": 17,
   "id": "973f9ab5-27cd-481e-81ab-c861ad915162",
   "metadata": {},
   "outputs": [],
   "source": [
    "#(iii) // It is an operator of floor division(rounds off to the nearest integer)"
   ]
  },
  {
   "cell_type": "code",
   "execution_count": 18,
   "id": "d7f4e2d9-17b4-4491-8657-3d52b1989635",
   "metadata": {},
   "outputs": [
    {
     "data": {
      "text/plain": [
       "2"
      ]
     },
     "execution_count": 18,
     "metadata": {},
     "output_type": "execute_result"
    }
   ],
   "source": [
    "20//7"
   ]
  },
  {
   "cell_type": "code",
   "execution_count": 19,
   "id": "ab5b762e-ff15-45b6-b396-b9685248d8f2",
   "metadata": {},
   "outputs": [],
   "source": [
    "#(iv) ** It is an exponential operator"
   ]
  },
  {
   "cell_type": "code",
   "execution_count": 20,
   "id": "ba951044-38b1-4668-ab5c-90ca4c40d2e3",
   "metadata": {},
   "outputs": [
    {
     "data": {
      "text/plain": [
       "8"
      ]
     },
     "execution_count": 20,
     "metadata": {},
     "output_type": "execute_result"
    }
   ],
   "source": [
    "2**3"
   ]
  },
  {
   "attachments": {},
   "cell_type": "markdown",
   "id": "44389ff8-85ee-4a29-a439-837bcc709201",
   "metadata": {},
   "source": [
    "Q4. Create a list of length 10 of your choice containing multiple types of data. Using for loop print the\n",
    "element and its data type."
   ]
  },
  {
   "cell_type": "code",
   "execution_count": 21,
   "id": "634e7477-6a84-4006-9e6f-32463acdcff2",
   "metadata": {},
   "outputs": [
    {
     "name": "stdout",
     "output_type": "stream",
     "text": [
      "1\n",
      "<class 'int'>\n",
      "2\n",
      "<class 'int'>\n",
      "2.5\n",
      "<class 'float'>\n",
      "dhan\n",
      "<class 'str'>\n",
      "bhu\n",
      "<class 'str'>\n",
      "8.9\n",
      "<class 'float'>\n",
      "6\n",
      "<class 'int'>\n",
      "pin\n",
      "<class 'str'>\n",
      "10\n",
      "<class 'int'>\n",
      "abc\n",
      "<class 'str'>\n"
     ]
    }
   ],
   "source": [
    "l = [1,2,2.5,'dhan','bhu',8.9,6,'pin',10,'abc']\n",
    "for i in l :\n",
    "    print(i)\n",
    "    print(type(i))"
   ]
  },
  {
   "attachments": {},
   "cell_type": "markdown",
   "id": "f34caeed-57a9-4a33-a6a5-914896ac0a8c",
   "metadata": {},
   "source": [
    "Q5. Using a while loop, verify if the number A is purely divisible by number B and if so then how many\n",
    "times it can be divisible."
   ]
  },
  {
   "cell_type": "code",
   "execution_count": 22,
   "id": "1992b97c-bc12-4370-8dd8-5b0235ea955f",
   "metadata": {},
   "outputs": [
    {
     "ename": "ValueError",
     "evalue": "invalid literal for int() with base 10: ''",
     "output_type": "error",
     "traceback": [
      "\u001b[1;31m---------------------------------------------------------------------------\u001b[0m",
      "\u001b[1;31mValueError\u001b[0m                                Traceback (most recent call last)",
      "Cell \u001b[1;32mIn[22], line 1\u001b[0m\n\u001b[1;32m----> 1\u001b[0m A \u001b[39m=\u001b[39m \u001b[39mint\u001b[39;49m(\u001b[39minput\u001b[39;49m())\n\u001b[0;32m      2\u001b[0m B \u001b[39m=\u001b[39m \u001b[39mint\u001b[39m(\u001b[39minput\u001b[39m())\n\u001b[0;32m      3\u001b[0m \u001b[39mwhile\u001b[39;00m B \u001b[39m<\u001b[39m\u001b[39m=\u001b[39m A :\n",
      "\u001b[1;31mValueError\u001b[0m: invalid literal for int() with base 10: ''"
     ]
    }
   ],
   "source": [
    "A = int(input())\n",
    "B = int(input())\n",
    "while B <= A :\n",
    "    if A%B == 0 :\n",
    "        B = B + 1\n",
    "        print ('A is purely divisble by B')\n",
    "    else :\n",
    "        print ('A is not purely divisible by B')\n",
    "\n",
    "    \n",
    "       \n",
    "    \n",
    "        \n",
    "\n",
    "    "
   ]
  },
  {
   "attachments": {},
   "cell_type": "markdown",
   "id": "5965c4e4-410f-453c-8845-8f49bdc3c57b",
   "metadata": {},
   "source": [
    "Q6. Create a list containing 25 int type data. Using for loop and if-else condition print if the element is\n",
    "divisible by 3 or not."
   ]
  },
  {
   "cell_type": "code",
   "execution_count": null,
   "id": "c5848fdb-1b8a-4c90-a5bd-efb861118039",
   "metadata": {},
   "outputs": [],
   "source": [
    "l = [1,2,3,4,5,6,7,8,9,10,11,12,13,14,15,16,17,18,19,20,21,22,23,24,25]\n",
    "for i in l :\n",
    "    if i%3 == 0 :\n",
    "        print(i)\n",
    "        print('divisible')\n",
    "    else :\n",
    "        print(i)\n",
    "        print('not divisible')\n",
    "   "
   ]
  },
  {
   "attachments": {},
   "cell_type": "markdown",
   "id": "ec6b4813-22d1-48fd-bf66-7cc09cb122f5",
   "metadata": {},
   "source": [
    "Q7. What do you understand about mutable and immutable data types? Give examples for both showing\n",
    "this property."
   ]
  },
  {
   "cell_type": "code",
   "execution_count": null,
   "id": "dab3ab0b-7c37-4165-87fc-819f6c11fa8e",
   "metadata": {},
   "outputs": [],
   "source": [
    "#Immutable objects cannot be modified after they are created, while mutable objects can.\n",
    "\n",
    "l = [1,'dj',2.6,True,3]\n",
    "l[0] = 2\n",
    "l[1] = 'bc'\n",
    "l[3] = False\n",
    "l[2] = 6.2"
   ]
  },
  {
   "cell_type": "code",
   "execution_count": null,
   "id": "c4717660-42e0-4119-977b-d58bd277b15d",
   "metadata": {},
   "outputs": [],
   "source": [
    "l\n"
   ]
  },
  {
   "cell_type": "code",
   "execution_count": null,
   "id": "d1d214db-e782-4442-a557-91e66115dd10",
   "metadata": {},
   "outputs": [],
   "source": [
    "#hence list 'l' is mutable"
   ]
  },
  {
   "cell_type": "code",
   "execution_count": null,
   "id": "dde96001-e204-4a19-b984-cd790be96528",
   "metadata": {},
   "outputs": [],
   "source": [
    "a = 'abc'\n",
    "a[0] = 'e'"
   ]
  },
  {
   "cell_type": "code",
   "execution_count": null,
   "id": "8f5041e3-bbff-4e4f-abf2-b160d0a09e73",
   "metadata": {},
   "outputs": [],
   "source": [
    "#hence string 'a' is immutable"
   ]
  }
 ],
 "metadata": {
  "kernelspec": {
   "display_name": "Python 3 (ipykernel)",
   "language": "python",
   "name": "python3"
  },
  "language_info": {
   "codemirror_mode": {
    "name": "ipython",
    "version": 3
   },
   "file_extension": ".py",
   "mimetype": "text/x-python",
   "name": "python",
   "nbconvert_exporter": "python",
   "pygments_lexer": "ipython3",
   "version": "3.11.4"
  }
 },
 "nbformat": 4,
 "nbformat_minor": 5
}
