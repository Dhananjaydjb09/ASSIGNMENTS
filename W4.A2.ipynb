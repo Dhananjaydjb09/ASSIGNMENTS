{
 "cells": [
  {
   "cell_type": "markdown",
   "id": "6eb99d26-26c5-4763-ae18-6414f15ea95b",
   "metadata": {},
   "source": [
    "Q1. Explain Class and Object with respect to Object-Oriented Programming. Give a suitable example"
   ]
  },
  {
   "cell_type": "code",
   "execution_count": 1,
   "id": "32b7bfb3-0391-4a44-a155-bf5f124e8fa7",
   "metadata": {},
   "outputs": [],
   "source": [
    "#A class is considered as a blueprint of objects. We can think of the class as a sketch (prototype) of a house. \n",
    "#It contains all the details about the floors, doors, windows, etc. Based on these descriptions we build the house. House is the object.\n",
    "#Since many houses can be made from the same description, we can create many objects from a class.\n",
    "\n",
    "\n",
    "#An object is called an instance of a class. For example, suppose Bike is a class then we can create objects like bike1, bike2, etc from the class.  \n",
    "\n"
   ]
  },
  {
   "cell_type": "code",
   "execution_count": 26,
   "id": "70dca843-6b55-416e-8dbb-8cfd44fd02a3",
   "metadata": {},
   "outputs": [],
   "source": [
    "class bike :\n",
    "    def __init__(self,name,engine_capacity,colour) :\n",
    "        self.name = name\n",
    "        self.engine_capacity = engine_capacity\n",
    "        self.colour = colour\n",
    "        \n",
    "    \n",
    "\n",
    "    def bike_details(self) :\n",
    "        return self.name,self.engine_capacity,self.colour"
   ]
  },
  {
   "cell_type": "code",
   "execution_count": 27,
   "id": "488ef517-112d-4159-859a-d60c0e0c1fb3",
   "metadata": {},
   "outputs": [],
   "source": [
    "my_bike = bike(\"tvs_apache_rtr\",180,\"white\")"
   ]
  },
  {
   "cell_type": "code",
   "execution_count": 28,
   "id": "a9eaec02-302b-4d5c-aecf-c8692984407a",
   "metadata": {},
   "outputs": [
    {
     "data": {
      "text/plain": [
       "('tvs_apache_rtr', 180, 'white')"
      ]
     },
     "execution_count": 28,
     "metadata": {},
     "output_type": "execute_result"
    }
   ],
   "source": [
    "my_bike.bike_details()"
   ]
  },
  {
   "cell_type": "markdown",
   "id": "9b85055a-9dbc-41d2-915f-90e9f6d5da6f",
   "metadata": {},
   "source": [
    "Q2. Name the four pillars of OOPs.\n"
   ]
  },
  {
   "cell_type": "markdown",
   "id": "fa8c8525-f012-4bc0-9a5f-0280a050e69f",
   "metadata": {},
   "source": [
    "Answer - The Four Pillars of Object Oriented Programming\n",
    "1)Abstraction.\n",
    "2)Encapsulation.\n",
    "3)Inheritance.\n",
    "4)Polymorphism."
   ]
  },
  {
   "cell_type": "markdown",
   "id": "5e96a71d-c179-4e43-8253-0d847f0cd43e",
   "metadata": {},
   "source": [
    "Q3. Explain why the __init__() function is used. Give a suitable example."
   ]
  },
  {
   "cell_type": "code",
   "execution_count": 29,
   "id": "3feed71a-b67d-4909-873e-733859681510",
   "metadata": {},
   "outputs": [],
   "source": [
    "#The __init__ function is called every time an object is created from a class. \n",
    "#The __init__ method lets the class initialize the object's attributes and serves no other purpose.\n",
    "#It is only used within classes."
   ]
  },
  {
   "cell_type": "code",
   "execution_count": 30,
   "id": "101595b2-e2c5-4ef6-a5b5-e618099a050e",
   "metadata": {},
   "outputs": [],
   "source": [
    "class pwskills1 :\n",
    "    \n",
    "    def __init__(self , phone_number , email_id , student_id):\n",
    "        self.phone_number = phone_number\n",
    "        self.email_id = email_id\n",
    "        self.student_id = student_id\n",
    "        \n",
    "    def return_student_details(self) :\n",
    "        return self.student_id , self.phone_number , self.email_id"
   ]
  },
  {
   "cell_type": "code",
   "execution_count": 32,
   "id": "59249bd2-d999-460e-a497-ca23c77a20da",
   "metadata": {},
   "outputs": [],
   "source": [
    "a = pwskills1(438434,\"dj@gmail.com\",13692)"
   ]
  },
  {
   "cell_type": "code",
   "execution_count": 33,
   "id": "19e100ed-d745-4105-b9a6-a70df40d6449",
   "metadata": {},
   "outputs": [
    {
     "data": {
      "text/plain": [
       "(13692, 438434, 'dj@gmail.com')"
      ]
     },
     "execution_count": 33,
     "metadata": {},
     "output_type": "execute_result"
    }
   ],
   "source": [
    "a.return_student_details()"
   ]
  },
  {
   "cell_type": "markdown",
   "id": "7b5d4795-d7d8-45c7-bbf7-9687ff13e258",
   "metadata": {},
   "source": [
    "Q4. Why self is used in OOPs?"
   ]
  },
  {
   "cell_type": "markdown",
   "id": "08855997-c720-4ff0-ba37-e9fc2c0055b6",
   "metadata": {},
   "source": [
    "Self represents the instance of the class. By using the “self” we can access the attributes and methods of the class in Python. It binds the attributes with the given arguments. The reason you need to use self. is because Python does not use the @ syntax to refer to instance attributes."
   ]
  },
  {
   "cell_type": "markdown",
   "id": "b1a9a302-8ae4-444c-bbdf-c1b8db18ac1b",
   "metadata": {},
   "source": [
    "Q5. What is inheritance? Give an example for each type of inheritance."
   ]
  },
  {
   "cell_type": "markdown",
   "id": "9155b9b5-38f2-4680-84dc-f8503c74e521",
   "metadata": {},
   "source": [
    "Inheritance is a mechanism of acquiring the features and behaviors of a class by another class. The class whose members are inherited is called the base class, and the class that inherits those members is called the derived class. Inheritance implements the relationship.\n",
    "OOPs support the six different types of inheritance as given below :\n",
    "\n",
    "Single inheritance\n",
    "\n",
    "Multi-level inheritance\n",
    "\n",
    "Multiple inheritance\n",
    "\n",
    "Multipath inheritance\n",
    "\n",
    "Hierarchical Inheritance\n",
    "\n",
    "Hybrid Inheritance"
   ]
  },
  {
   "cell_type": "code",
   "execution_count": 48,
   "id": "0530141f-c17d-4aa5-8214-d8bb8a9391fe",
   "metadata": {},
   "outputs": [],
   "source": [
    "class dhananjay():\n",
    "    def test_dhananjay(self):\n",
    "        return \"dhananjay is qualified for JEE\""
   ]
  },
  {
   "cell_type": "code",
   "execution_count": 49,
   "id": "5d5be504-7cce-4d93-8496-eaac0f092d59",
   "metadata": {},
   "outputs": [],
   "source": [
    "class dhananjay1():\n",
    "    def test_dhananjay1(dhananjay):\n",
    "        return \"dhananjay not qualified for cgpsc acf\""
   ]
  },
  {
   "cell_type": "code",
   "execution_count": 50,
   "id": "7dc607d4-a535-420e-bd8a-e2028399e4b9",
   "metadata": {},
   "outputs": [],
   "source": [
    "class dhananjay2():\n",
    "    def test_dhananjay2(dhananjay1):\n",
    "        return \"dhananjay not qualified for cgpsc acf\""
   ]
  },
  {
   "cell_type": "code",
   "execution_count": 51,
   "id": "d267c929-0476-4232-a917-e5e216c1d6cb",
   "metadata": {},
   "outputs": [],
   "source": [
    "class dhananjay3():\n",
    "    def test_dhananjay3(dhananjay2):\n",
    "        return \"dhananjay became an IAS\""
   ]
  },
  {
   "cell_type": "code",
   "execution_count": 52,
   "id": "4f4f4a99-8072-4557-b3cd-1fa0c54b9b5c",
   "metadata": {},
   "outputs": [],
   "source": [
    "class dhananjay4(dhananjay3):\n",
    "    pass"
   ]
  },
  {
   "cell_type": "code",
   "execution_count": 53,
   "id": "7241b723-899c-4afd-a146-7ba0df38dbc1",
   "metadata": {},
   "outputs": [],
   "source": [
    "obj_dhananjay_bhuvarya = dhananjay3()"
   ]
  },
  {
   "cell_type": "code",
   "execution_count": 55,
   "id": "bfb917b3-e6ed-4177-816c-ed910a817897",
   "metadata": {},
   "outputs": [
    {
     "data": {
      "text/plain": [
       "'dhananjay became an IAS'"
      ]
     },
     "execution_count": 55,
     "metadata": {},
     "output_type": "execute_result"
    }
   ],
   "source": [
    "obj_dhananjay_bhuvarya.test_dhananjay3()"
   ]
  },
  {
   "cell_type": "code",
   "execution_count": null,
   "id": "ffb512c1-c67f-4f78-820b-048a403cb225",
   "metadata": {},
   "outputs": [],
   "source": []
  }
 ],
 "metadata": {
  "kernelspec": {
   "display_name": "Python 3 (ipykernel)",
   "language": "python",
   "name": "python3"
  },
  "language_info": {
   "codemirror_mode": {
    "name": "ipython",
    "version": 3
   },
   "file_extension": ".py",
   "mimetype": "text/x-python",
   "name": "python",
   "nbconvert_exporter": "python",
   "pygments_lexer": "ipython3",
   "version": "3.10.8"
  }
 },
 "nbformat": 4,
 "nbformat_minor": 5
}
