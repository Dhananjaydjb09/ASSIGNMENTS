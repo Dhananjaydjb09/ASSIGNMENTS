{
 "cells": [
  {
   "cell_type": "markdown",
   "id": "dc8c10e5-8f12-47f1-aae3-b3a9ec3b74da",
   "metadata": {},
   "source": [
    "Q1. Create a vehicle class with an init method having instance variables as name_of_vehicle, max_speed\n",
    "and average_of_vehicle. \n",
    "\n"
   ]
  },
  {
   "cell_type": "code",
   "execution_count": 15,
   "id": "63cb83c1-5f58-435b-b694-d3e879671f2b",
   "metadata": {},
   "outputs": [],
   "source": [
    "class vehicle :\n",
    "    def __init__(self, name_of_vehicle, max_speed, average_of_vehicle):\n",
    "        self.name_of_vehicle = name_of_vehicle\n",
    "        self.max_speed = max_speed\n",
    "        self.average_of_vehicle = average_of_vehicle\n",
    "        \n",
    "    def return_vehicle_details(self) :\n",
    "        return self.name_of_vehicle,self.max_speed,self.average_of_vehicle\n",
    "    "
   ]
  },
  {
   "cell_type": "code",
   "execution_count": 16,
   "id": "4959fc69-752f-48ed-83ae-e1a7dfccdb44",
   "metadata": {},
   "outputs": [],
   "source": [
    "vehicle = vehicle(\"xuv\",300,16)"
   ]
  },
  {
   "cell_type": "code",
   "execution_count": 17,
   "id": "1db44144-b154-494c-93e4-ab0ceeb02789",
   "metadata": {},
   "outputs": [
    {
     "data": {
      "text/plain": [
       "('xuv', 300, 16)"
      ]
     },
     "execution_count": 17,
     "metadata": {},
     "output_type": "execute_result"
    }
   ],
   "source": [
    "vehicle.return_vehicle_details()"
   ]
  },
  {
   "cell_type": "markdown",
   "id": "1353259c-fff6-4cf9-92e8-1c11ea4440a5",
   "metadata": {},
   "source": [
    "Q2.  Create a child class car from the vehicle class created in Que 1, which will inherit the vehicle class.\n",
    "Create a method named seating_capacity which takes capacity as an argument and returns the name of\n",
    "the vehicle and its seating capacity."
   ]
  },
  {
   "cell_type": "code",
   "execution_count": 58,
   "id": "24191346-186f-4ec4-8c7b-f4092fd8ad50",
   "metadata": {},
   "outputs": [],
   "source": [
    "class vehicle :\n",
    "    def __init__(self, name_of_vehicle, max_speed, average_of_vehicle):\n",
    "        self.name_of_vehicle = name_of_vehicle\n",
    "        self.max_speed = max_speed\n",
    "        self.average_of_vehicle = average_of_vehicle\n",
    "        \n",
    "    def return_vehicle_details(self) :\n",
    "        return self.name_of_vehicle\n",
    "    \n",
    "    \n",
    "    "
   ]
  },
  {
   "cell_type": "code",
   "execution_count": 59,
   "id": "621abd72-a92a-4e82-b85e-336d90c1c7ec",
   "metadata": {},
   "outputs": [],
   "source": [
    "class child_vehicle(vehicle) :\n",
    "\n",
    "    pass\n",
    "  "
   ]
  },
  {
   "cell_type": "code",
   "execution_count": 61,
   "id": "4c30b4f0-49d3-40f6-b5f1-e996c7decb42",
   "metadata": {},
   "outputs": [],
   "source": [
    "child_vehicle_car = child_vehicle(\"xuv\",300,15)"
   ]
  },
  {
   "cell_type": "code",
   "execution_count": 62,
   "id": "7a7a6198-ea6f-4aa9-9d62-6d30701fb769",
   "metadata": {},
   "outputs": [
    {
     "data": {
      "text/plain": [
       "'xuv'"
      ]
     },
     "execution_count": 62,
     "metadata": {},
     "output_type": "execute_result"
    }
   ],
   "source": [
    "child_vehicle_car.return_vehicle_details()"
   ]
  },
  {
   "cell_type": "code",
   "execution_count": 66,
   "id": "bcb2f90b-cc5b-43d8-bec0-77dc91d7f615",
   "metadata": {},
   "outputs": [],
   "source": [
    "class seating_capacity(child_vehicle) :\n",
    "    def __init__(self,seating_capacity):\n",
    "        self.seating_capacity = seating_capacity\n",
    "        \n",
    "    def return_sc(self):\n",
    "        return child_vehicle_car.return_vehicle_details(), self.seating_capacity"
   ]
  },
  {
   "cell_type": "code",
   "execution_count": 67,
   "id": "7507a416-00cf-407b-980b-65b667a4c9eb",
   "metadata": {},
   "outputs": [],
   "source": [
    "a = seating_capacity(5)"
   ]
  },
  {
   "cell_type": "code",
   "execution_count": 68,
   "id": "17046410-1999-4bc8-87fd-50fcb9bdd0c7",
   "metadata": {},
   "outputs": [
    {
     "data": {
      "text/plain": [
       "('xuv', 5)"
      ]
     },
     "execution_count": 68,
     "metadata": {},
     "output_type": "execute_result"
    }
   ],
   "source": [
    "a.return_sc()"
   ]
  },
  {
   "cell_type": "markdown",
   "id": "562b290f-8625-49d3-afea-6796a93f6ad6",
   "metadata": {},
   "source": [
    "Q3. What is multiple inheritance? Write a python code to demonstrate multiple inheritance."
   ]
  },
  {
   "cell_type": "code",
   "execution_count": 69,
   "id": "d8cea4da-2853-459c-9792-340c3a0dd512",
   "metadata": {},
   "outputs": [],
   "source": [
    "#When a class is derived from more than one base class it is called multiple Inheritance. The derived class inherits all the features of the base case."
   ]
  },
  {
   "cell_type": "code",
   "execution_count": 1,
   "id": "1ea9d197-f56c-4c8e-90eb-08e0374b555d",
   "metadata": {},
   "outputs": [],
   "source": [
    "class dhananjay():\n",
    "    def test_dhananjay(self):\n",
    "        return \"dhananjay is qualified for JEE\""
   ]
  },
  {
   "cell_type": "code",
   "execution_count": 2,
   "id": "4f08526f-0f8a-434f-9e43-3b92248fe8fc",
   "metadata": {},
   "outputs": [],
   "source": [
    "class dhananjay1():\n",
    "    def test_dhananjay1(dhananjay):\n",
    "        return \"dhananjay not qualified for cgpsc acf\""
   ]
  },
  {
   "cell_type": "code",
   "execution_count": 3,
   "id": "13155b49-dff7-429d-86a2-5904cfa86e81",
   "metadata": {},
   "outputs": [],
   "source": [
    "class dhananjay2():\n",
    "    def test_dhananjay2(dhananjay1):\n",
    "        return \"dhananjay became an IAS\""
   ]
  },
  {
   "cell_type": "code",
   "execution_count": 4,
   "id": "6e28a7ad-a483-4630-98ea-b3c089314ce1",
   "metadata": {},
   "outputs": [],
   "source": [
    "class dhananjay3(dhananjay2):\n",
    "    pass"
   ]
  },
  {
   "cell_type": "code",
   "execution_count": 5,
   "id": "7ad8e774-eceb-4db3-a1e3-02f629442d69",
   "metadata": {},
   "outputs": [],
   "source": [
    "obj_dhananjay_bhuvarya = dhananjay3()"
   ]
  },
  {
   "cell_type": "code",
   "execution_count": 6,
   "id": "a55c5cef-d1ae-4f9e-8846-19a571463b4d",
   "metadata": {},
   "outputs": [
    {
     "data": {
      "text/plain": [
       "'dhananjay became an IAS'"
      ]
     },
     "execution_count": 6,
     "metadata": {},
     "output_type": "execute_result"
    }
   ],
   "source": [
    "obj_dhananjay_bhuvarya.test_dhananjay2()"
   ]
  },
  {
   "cell_type": "markdown",
   "id": "fcf56a48-8594-448f-aa57-4e58c9c15438",
   "metadata": {},
   "source": [
    "Q4. What are getter and setter in python? Create a class and create a getter and a setter method in this\n",
    "class."
   ]
  },
  {
   "cell_type": "markdown",
   "id": "3f4f0bff-1b8b-4c65-8c6d-c04ef7aee16c",
   "metadata": {},
   "source": [
    " Basically, the main purpose of using getters and setters in object-oriented programs is to ensure data encapsulation."
   ]
  },
  {
   "cell_type": "code",
   "execution_count": 13,
   "id": "dffed747-d56e-400c-b4e6-35c33d1ce1bc",
   "metadata": {},
   "outputs": [],
   "source": [
    "class apple :\n",
    "    def __init__(self,product,price,launch_date):\n",
    "        self.product = product\n",
    "        self.__price = price\n",
    "        self.launch_date = launch_date\n",
    "    @property\n",
    "    def price_access(self) :\n",
    "        return self.__price \n",
    "    \n",
    "    @price_access.setter\n",
    "    def price_set(self, price) :\n",
    "        if price <= 130000 :\n",
    "            pass\n",
    "        else :\n",
    "            self.__price = price\n",
    "            \n",
    "    @price_access.deleter\n",
    "    def delete_price(self) :\n",
    "        del self.__price\n",
    "        \n",
    "    \n",
    "    \n",
    "    \n",
    "    "
   ]
  },
  {
   "cell_type": "code",
   "execution_count": 22,
   "id": "4b39cbdd-e571-47fc-883b-9a09d26178f1",
   "metadata": {},
   "outputs": [],
   "source": [
    "a1 = apple(\"iphone15\",140000,\"12_sep\")"
   ]
  },
  {
   "cell_type": "code",
   "execution_count": 23,
   "id": "1a13537d-c67e-4030-abe8-56e45a08d29b",
   "metadata": {},
   "outputs": [
    {
     "data": {
      "text/plain": [
       "140000"
      ]
     },
     "execution_count": 23,
     "metadata": {},
     "output_type": "execute_result"
    }
   ],
   "source": [
    "a1.price_access"
   ]
  },
  {
   "cell_type": "code",
   "execution_count": 25,
   "id": "2a19a608-b0a1-4140-b1de-ede36ad6f2da",
   "metadata": {},
   "outputs": [],
   "source": [
    "a1.price_set = 1500000"
   ]
  },
  {
   "cell_type": "code",
   "execution_count": 26,
   "id": "42063017-8cde-49f3-8938-d155a59d57bf",
   "metadata": {},
   "outputs": [
    {
     "data": {
      "text/plain": [
       "1500000"
      ]
     },
     "execution_count": 26,
     "metadata": {},
     "output_type": "execute_result"
    }
   ],
   "source": [
    "a1.price_access"
   ]
  },
  {
   "cell_type": "code",
   "execution_count": 29,
   "id": "d0d32d69-1f03-431e-a6c7-96dd23cb0429",
   "metadata": {},
   "outputs": [],
   "source": [
    "del a1.delete_price"
   ]
  },
  {
   "cell_type": "code",
   "execution_count": 30,
   "id": "20dd7aaa-12d4-4c08-943a-3f59cf35a6ff",
   "metadata": {},
   "outputs": [
    {
     "ename": "AttributeError",
     "evalue": "'apple' object has no attribute '_apple__price'",
     "output_type": "error",
     "traceback": [
      "\u001b[0;31m---------------------------------------------------------------------------\u001b[0m",
      "\u001b[0;31mAttributeError\u001b[0m                            Traceback (most recent call last)",
      "Cell \u001b[0;32mIn[30], line 1\u001b[0m\n\u001b[0;32m----> 1\u001b[0m \u001b[43ma1\u001b[49m\u001b[38;5;241;43m.\u001b[39;49m\u001b[43mprice_access\u001b[49m\n",
      "Cell \u001b[0;32mIn[13], line 8\u001b[0m, in \u001b[0;36mapple.price_access\u001b[0;34m(self)\u001b[0m\n\u001b[1;32m      6\u001b[0m \u001b[38;5;129m@property\u001b[39m\n\u001b[1;32m      7\u001b[0m \u001b[38;5;28;01mdef\u001b[39;00m \u001b[38;5;21mprice_access\u001b[39m(\u001b[38;5;28mself\u001b[39m) :\n\u001b[0;32m----> 8\u001b[0m     \u001b[38;5;28;01mreturn\u001b[39;00m \u001b[38;5;28;43mself\u001b[39;49m\u001b[38;5;241;43m.\u001b[39;49m\u001b[43m__price\u001b[49m\n",
      "\u001b[0;31mAttributeError\u001b[0m: 'apple' object has no attribute '_apple__price'"
     ]
    }
   ],
   "source": [
    "a1.price_access"
   ]
  },
  {
   "cell_type": "markdown",
   "id": "58e79378-44a8-49fa-b4ba-eec95cbf9ea3",
   "metadata": {},
   "source": [
    "Q5.What is method overriding in python? Write a python code to demonstrate method overriding."
   ]
  },
  {
   "cell_type": "markdown",
   "id": "53b5053a-a69b-4fb8-998d-330c4decd83e",
   "metadata": {},
   "source": [
    "Method overriding is an ability of any object-oriented programming language that allows a subclass or child class to provide a specific implementation of a method that is already provided by one of its super-classes or parent classes."
   ]
  },
  {
   "cell_type": "code",
   "execution_count": 45,
   "id": "fa58826b-c085-46c5-9a96-f9c682a3e3de",
   "metadata": {},
   "outputs": [],
   "source": [
    "class parent :\n",
    "    def __init__(self) :\n",
    "        self.value = \"Inside parent\"\n",
    "        \n",
    "    def show(self) :\n",
    "        print(self.value)\n",
    "        \n",
    "class child(parent) :\n",
    "    def __init__(self) :\n",
    "        self.value = \"Inside Child\"\n",
    "        \n",
    "    def show(self) :\n",
    "        print(self.value)\n",
    "        "
   ]
  },
  {
   "cell_type": "code",
   "execution_count": 46,
   "id": "76c406f5-6392-4e36-9ac2-af3846ed526d",
   "metadata": {},
   "outputs": [],
   "source": [
    "a = parent()"
   ]
  },
  {
   "cell_type": "code",
   "execution_count": 47,
   "id": "eb9f2390-20ea-453c-bae8-eeab3efc635e",
   "metadata": {},
   "outputs": [],
   "source": [
    "b = child()\n"
   ]
  },
  {
   "cell_type": "code",
   "execution_count": 48,
   "id": "787d867b-bb9e-41a3-84e6-ca418fb17675",
   "metadata": {},
   "outputs": [
    {
     "name": "stdout",
     "output_type": "stream",
     "text": [
      "Inside parent\n"
     ]
    }
   ],
   "source": [
    "a.show()"
   ]
  },
  {
   "cell_type": "code",
   "execution_count": 49,
   "id": "e0533a32-0985-41fa-83be-59b8eb1ff74f",
   "metadata": {},
   "outputs": [
    {
     "name": "stdout",
     "output_type": "stream",
     "text": [
      "Inside Child\n"
     ]
    }
   ],
   "source": [
    "b.show()"
   ]
  },
  {
   "cell_type": "code",
   "execution_count": null,
   "id": "86715168-18ce-40aa-bd08-da8305fcf707",
   "metadata": {},
   "outputs": [],
   "source": []
  }
 ],
 "metadata": {
  "kernelspec": {
   "display_name": "Python 3 (ipykernel)",
   "language": "python",
   "name": "python3"
  },
  "language_info": {
   "codemirror_mode": {
    "name": "ipython",
    "version": 3
   },
   "file_extension": ".py",
   "mimetype": "text/x-python",
   "name": "python",
   "nbconvert_exporter": "python",
   "pygments_lexer": "ipython3",
   "version": "3.10.8"
  }
 },
 "nbformat": 4,
 "nbformat_minor": 5
}
