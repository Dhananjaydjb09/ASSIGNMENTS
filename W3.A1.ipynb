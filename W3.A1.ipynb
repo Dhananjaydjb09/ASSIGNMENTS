{
 "cells": [
  {
   "cell_type": "markdown",
   "id": "23077f91-b72a-4392-8277-b6a9d784821e",
   "metadata": {},
   "source": [
    "Q1. Which keyword is used to create a function? Create a function to return a list of odd numbers in the\n",
    "range of 1 to 25.\n"
   ]
  },
  {
   "cell_type": "code",
   "execution_count": 4,
   "id": "8a4bba17-b214-437f-ac0e-5b1af6a6c836",
   "metadata": {},
   "outputs": [],
   "source": [
    "#Answer - def keyword is used to create a function\n",
    "def test() :\n",
    "    a = range(1,25)\n",
    "    for i in a :\n",
    "        if i%2 != 0 :\n",
    "            print(i)\n",
    "    \n"
   ]
  },
  {
   "cell_type": "code",
   "execution_count": 5,
   "id": "959e6590-4af6-4bf1-ac10-44d0a5731474",
   "metadata": {},
   "outputs": [
    {
     "name": "stdout",
     "output_type": "stream",
     "text": [
      "1\n",
      "3\n",
      "5\n",
      "7\n",
      "9\n",
      "11\n",
      "13\n",
      "15\n",
      "17\n",
      "19\n",
      "21\n",
      "23\n"
     ]
    }
   ],
   "source": [
    "test()"
   ]
  },
  {
   "cell_type": "markdown",
   "id": "d59e44a0-524b-48b8-85fb-345b4be516c6",
   "metadata": {},
   "source": [
    "Q2. Why *args and **kwargs is used in some functions? Create a function each for *args and **kwargs\n",
    "to demonstrate their use."
   ]
  },
  {
   "cell_type": "code",
   "execution_count": 7,
   "id": "8cd93612-d11c-460e-811a-58e757a6d9c8",
   "metadata": {},
   "outputs": [],
   "source": [
    "#Answer - *args enable us to pass the variable number of non-keyword arguments to functions, but we cannot use this to pass keyword arguments. \n",
    "#Keyword arguments mean that they contain a key-value pair, like a Python dictionary. **kwargs allows us to pass any number of keyword arguments.\n",
    "\n",
    "def test(*args):\n",
    "    return(args)\n",
    "    \n",
    "\n"
   ]
  },
  {
   "cell_type": "code",
   "execution_count": 8,
   "id": "f8a901a4-b0fa-46b0-8e9e-64e3d33fb504",
   "metadata": {},
   "outputs": [
    {
     "data": {
      "text/plain": [
       "(1, 2, 3, 'abc')"
      ]
     },
     "execution_count": 8,
     "metadata": {},
     "output_type": "execute_result"
    }
   ],
   "source": [
    "test(1,2,3,'abc')"
   ]
  },
  {
   "cell_type": "code",
   "execution_count": 9,
   "id": "cfb1d2cc-7948-4104-8351-6fad8d2b279b",
   "metadata": {},
   "outputs": [],
   "source": [
    "def test(**kwargs):\n",
    "    return kwargs"
   ]
  },
  {
   "cell_type": "code",
   "execution_count": 10,
   "id": "215bb867-0ba6-4089-8873-3fdbb8c2cadc",
   "metadata": {},
   "outputs": [
    {
     "data": {
      "text/plain": [
       "{'a': 123, 'b': 'dhananjay', 'c': True}"
      ]
     },
     "execution_count": 10,
     "metadata": {},
     "output_type": "execute_result"
    }
   ],
   "source": [
    "test(a = 123, b= 'dhananjay', c = True)"
   ]
  },
  {
   "cell_type": "markdown",
   "id": "4624299b-aa59-4291-aaa6-11e193883afe",
   "metadata": {},
   "source": [
    "Q3.  What is an iterator in python? Name the method used to initialise the iterator object and the method\n",
    "used for iteration. Use these methods to print the first five elements of the given list [2, 4, 6, 8, 10, 12, 14,\n",
    "16, 18, 20]."
   ]
  },
  {
   "cell_type": "code",
   "execution_count": 16,
   "id": "b02e41dd-e8f9-46e7-882b-cb01e7d8b8c0",
   "metadata": {},
   "outputs": [],
   "source": [
    "#Answer - An iterator in Python is an object that is used to iterate over iterable objects like lists, tuples, dicts, and sets.\n",
    "#The Python iterators object is initialized using the iter() method.\n",
    "#It uses the next() method for iteration.\n",
    "\n",
    "l = [2,4,6,8,10,12,14,16,18,20]\n",
    "l1 = iter(l)\n"
   ]
  },
  {
   "cell_type": "code",
   "execution_count": 17,
   "id": "bd0402ee-aaa6-488a-9e3e-e1e8bd495bf7",
   "metadata": {},
   "outputs": [
    {
     "data": {
      "text/plain": [
       "2"
      ]
     },
     "execution_count": 17,
     "metadata": {},
     "output_type": "execute_result"
    }
   ],
   "source": [
    "next(l1)"
   ]
  },
  {
   "cell_type": "code",
   "execution_count": 18,
   "id": "54e45620-1b1f-4281-b68b-e7042dbcd5bd",
   "metadata": {},
   "outputs": [
    {
     "data": {
      "text/plain": [
       "4"
      ]
     },
     "execution_count": 18,
     "metadata": {},
     "output_type": "execute_result"
    }
   ],
   "source": [
    "next(l1)"
   ]
  },
  {
   "cell_type": "code",
   "execution_count": 19,
   "id": "41082b4d-0110-4dd1-99d3-af31234f2ea3",
   "metadata": {},
   "outputs": [
    {
     "data": {
      "text/plain": [
       "6"
      ]
     },
     "execution_count": 19,
     "metadata": {},
     "output_type": "execute_result"
    }
   ],
   "source": [
    "next(l1)"
   ]
  },
  {
   "cell_type": "code",
   "execution_count": 20,
   "id": "fdd2d194-5d68-41a8-ae36-8dafbed60c6a",
   "metadata": {},
   "outputs": [
    {
     "data": {
      "text/plain": [
       "8"
      ]
     },
     "execution_count": 20,
     "metadata": {},
     "output_type": "execute_result"
    }
   ],
   "source": [
    "next(l1)"
   ]
  },
  {
   "cell_type": "code",
   "execution_count": 21,
   "id": "612e4376-3ad9-4402-a52d-5aac2aa89544",
   "metadata": {},
   "outputs": [
    {
     "data": {
      "text/plain": [
       "10"
      ]
     },
     "execution_count": 21,
     "metadata": {},
     "output_type": "execute_result"
    }
   ],
   "source": [
    "next(l1)"
   ]
  },
  {
   "cell_type": "markdown",
   "id": "ec0253b6-115d-43b2-b306-c5d61a691fd4",
   "metadata": {},
   "source": [
    "Q4.  What is a generator function in python? Why yield keyword is used? Give an example of a generator\n",
    "function."
   ]
  },
  {
   "cell_type": "code",
   "execution_count": 22,
   "id": "0be46112-2856-4061-be2d-2bc4c4bebdc7",
   "metadata": {},
   "outputs": [],
   "source": [
    "#Answer - Generator functions behave and look just like normal functions, but with one defining characteristic. \n",
    "#Instead of returning data, Python generator functions use the yield keyword. \n",
    "#Generators' main benefit is that they automatically create the functions __iter__() and next ()\n",
    "def count_test(n):\n",
    "    count = 1\n",
    "    while count < n :\n",
    "        yield count\n",
    "        count = count + 1\n",
    "\n"
   ]
  },
  {
   "cell_type": "code",
   "execution_count": 24,
   "id": "5c108e2f-9d60-4cd2-8c80-0dee0e0aea82",
   "metadata": {},
   "outputs": [],
   "source": [
    "c = count_test(5)"
   ]
  },
  {
   "cell_type": "code",
   "execution_count": 25,
   "id": "9ccbe977-ac94-48c1-9fb7-56c49a1aba17",
   "metadata": {},
   "outputs": [
    {
     "name": "stdout",
     "output_type": "stream",
     "text": [
      "1\n",
      "2\n",
      "3\n",
      "4\n"
     ]
    }
   ],
   "source": [
    "for i in c:\n",
    "    print(i)"
   ]
  },
  {
   "cell_type": "markdown",
   "id": "1ec2c290-aa35-45fb-ab4f-5350e3970ae4",
   "metadata": {},
   "source": [
    "Q5. Create a generator function for prime numbers less than 1000. Use the next() method to print the\n",
    "first 20 prime numbers.\n"
   ]
  },
  {
   "cell_type": "code",
   "execution_count": 74,
   "id": "a334646e-4d51-4b00-aee8-57d21a3a5862",
   "metadata": {},
   "outputs": [],
   "source": [
    "def is_prime(n):\n",
    "    if n <= 1:\n",
    "        return False\n",
    "    for i in range(2, int(n**0.5) + 1):\n",
    "        if n % i == 0:\n",
    "            return False\n",
    "    return True\n",
    "\n",
    "def prime_nums_generator():\n",
    "    n = 2\n",
    "    while True:\n",
    "        if is_prime(n):\n",
    "            yield n\n",
    "        n += 1"
   ]
  },
  {
   "cell_type": "code",
   "execution_count": 75,
   "id": "b57fdd07-1958-44e4-b66b-5f5cdd0ca771",
   "metadata": {},
   "outputs": [],
   "source": [
    "primes = prime_nums_generator()"
   ]
  },
  {
   "cell_type": "code",
   "execution_count": 76,
   "id": "e784f40b-60ca-48fe-a33c-c176f3aa57db",
   "metadata": {},
   "outputs": [
    {
     "name": "stdin",
     "output_type": "stream",
     "text": [
      "Input the number of prime numbers you want to generate?  20\n"
     ]
    },
    {
     "name": "stdout",
     "output_type": "stream",
     "text": [
      "First 20 Prime numbers:\n",
      "2\n",
      "3\n",
      "5\n",
      "7\n",
      "11\n",
      "13\n",
      "17\n",
      "19\n",
      "23\n",
      "29\n",
      "31\n",
      "37\n",
      "41\n",
      "43\n",
      "47\n",
      "53\n",
      "59\n",
      "61\n",
      "67\n",
      "71\n"
     ]
    }
   ],
   "source": [
    "n = int(input(\"Input the number of prime numbers you want to generate? \"))\n",
    "print(\"First\",n,\"Prime numbers:\")\n",
    "for _ in range(n):\n",
    "    print(next(primes))"
   ]
  },
  {
   "cell_type": "markdown",
   "id": "ba05f0f6-8e24-4b6f-9191-f5fbfdc58229",
   "metadata": {},
   "source": [
    "Q6. Write a python program to print the first 10 Fibonacci numbers using a while loop."
   ]
  },
  {
   "cell_type": "code",
   "execution_count": 77,
   "id": "7d19a75d-2147-4930-b21e-21caf7607d4f",
   "metadata": {},
   "outputs": [],
   "source": [
    "def test_fibanaki1():\n",
    "    a,b = 0,1\n",
    "    while True:\n",
    "        yield a\n",
    "        a,b = b, a+b"
   ]
  },
  {
   "cell_type": "code",
   "execution_count": 78,
   "id": "dd5d32de-ea90-45be-81ef-8bcdd2599b48",
   "metadata": {},
   "outputs": [],
   "source": [
    "fibanaki = test_fibanaki1()"
   ]
  },
  {
   "cell_type": "code",
   "execution_count": 79,
   "id": "dec90af0-884b-42ca-8582-51505c8e6c17",
   "metadata": {},
   "outputs": [
    {
     "name": "stdout",
     "output_type": "stream",
     "text": [
      "0\n",
      "1\n",
      "1\n",
      "2\n",
      "3\n",
      "5\n",
      "8\n",
      "13\n",
      "21\n",
      "34\n"
     ]
    }
   ],
   "source": [
    "for i in range(10):\n",
    "    print(next(fibanaki))"
   ]
  },
  {
   "cell_type": "markdown",
   "id": "be4e3b80-634c-4e3f-869b-353a58c7f47c",
   "metadata": {},
   "source": [
    "Q7. Write a List Comprehension to iterate through the given string: ‘pwskills’.\n",
    "\n",
    "Expected output: ['p', 'w', 's', 'k', 'i', 'l', 'l', 's'] "
   ]
  },
  {
   "cell_type": "code",
   "execution_count": 84,
   "id": "211ba499-1c7b-484e-89d8-da547450b500",
   "metadata": {},
   "outputs": [],
   "source": [
    "a = \"pwskills\""
   ]
  },
  {
   "cell_type": "code",
   "execution_count": 88,
   "id": "7691bf97-dfae-4176-bff0-2ba83f3bb11a",
   "metadata": {},
   "outputs": [],
   "source": [
    "l1 = []\n",
    "for i in a:\n",
    "    l1.append(i)"
   ]
  },
  {
   "cell_type": "code",
   "execution_count": 89,
   "id": "ef7180e4-9e0c-4d3f-89a8-087788520529",
   "metadata": {},
   "outputs": [
    {
     "data": {
      "text/plain": [
       "['p', 'w', 's', 'k', 'i', 'l', 'l', 's']"
      ]
     },
     "execution_count": 89,
     "metadata": {},
     "output_type": "execute_result"
    }
   ],
   "source": [
    "l1"
   ]
  },
  {
   "cell_type": "markdown",
   "id": "3cb68a1e-b2f9-493b-8d26-12cccbf45cb7",
   "metadata": {},
   "source": [
    "Q8. Write a python program to check whether a given number is Palindrome or not using a while loop."
   ]
  },
  {
   "cell_type": "code",
   "execution_count": 61,
   "id": "ec6ff44b-9a7d-4589-81ca-ac7b6c1d11b7",
   "metadata": {},
   "outputs": [
    {
     "name": "stdin",
     "output_type": "stream",
     "text": [
      " 12321\n"
     ]
    },
    {
     "name": "stdout",
     "output_type": "stream",
     "text": [
      "Palindrome\n"
     ]
    }
   ],
   "source": [
    "num = int(input())\n",
    "temp = num\n",
    "reverse = 0\n",
    "while temp > 0:\n",
    "    remainder = temp % 10\n",
    "    reverse = (reverse * 10) + remainder\n",
    "    temp = temp // 10\n",
    "if num == reverse:\n",
    "  print('Palindrome')\n",
    "else:\n",
    "  print(\"Not Palindrome\")\n",
    "\n",
    "    \n",
    "    \n",
    "\n",
    "    \n",
    "    "
   ]
  },
  {
   "cell_type": "markdown",
   "id": "4c4fd572-3f31-433a-b50e-2be5d09dcdf5",
   "metadata": {},
   "source": [
    "Q9. Write a code to print odd numbers from 1 to 100 using list comprehension."
   ]
  },
  {
   "cell_type": "code",
   "execution_count": 2,
   "id": "a13fb20c-f8a5-4686-a49e-151829f573b9",
   "metadata": {},
   "outputs": [],
   "source": [
    "l = range(100)\n",
    "l1 = []\n",
    "for i in l:\n",
    "    if i == 1 or i%2 != 0 :\n",
    "        l1.append(i)"
   ]
  },
  {
   "cell_type": "code",
   "execution_count": 3,
   "id": "75a8c229-0823-4183-b66f-3d8146197075",
   "metadata": {},
   "outputs": [
    {
     "data": {
      "text/plain": [
       "[1,\n",
       " 3,\n",
       " 5,\n",
       " 7,\n",
       " 9,\n",
       " 11,\n",
       " 13,\n",
       " 15,\n",
       " 17,\n",
       " 19,\n",
       " 21,\n",
       " 23,\n",
       " 25,\n",
       " 27,\n",
       " 29,\n",
       " 31,\n",
       " 33,\n",
       " 35,\n",
       " 37,\n",
       " 39,\n",
       " 41,\n",
       " 43,\n",
       " 45,\n",
       " 47,\n",
       " 49,\n",
       " 51,\n",
       " 53,\n",
       " 55,\n",
       " 57,\n",
       " 59,\n",
       " 61,\n",
       " 63,\n",
       " 65,\n",
       " 67,\n",
       " 69,\n",
       " 71,\n",
       " 73,\n",
       " 75,\n",
       " 77,\n",
       " 79,\n",
       " 81,\n",
       " 83,\n",
       " 85,\n",
       " 87,\n",
       " 89,\n",
       " 91,\n",
       " 93,\n",
       " 95,\n",
       " 97,\n",
       " 99]"
      ]
     },
     "execution_count": 3,
     "metadata": {},
     "output_type": "execute_result"
    }
   ],
   "source": [
    "l1"
   ]
  },
  {
   "cell_type": "code",
   "execution_count": null,
   "id": "13c4e8a1-974f-431e-8085-60a7072c107c",
   "metadata": {},
   "outputs": [],
   "source": []
  }
 ],
 "metadata": {
  "kernelspec": {
   "display_name": "Python 3 (ipykernel)",
   "language": "python",
   "name": "python3"
  },
  "language_info": {
   "codemirror_mode": {
    "name": "ipython",
    "version": 3
   },
   "file_extension": ".py",
   "mimetype": "text/x-python",
   "name": "python",
   "nbconvert_exporter": "python",
   "pygments_lexer": "ipython3",
   "version": "3.10.8"
  }
 },
 "nbformat": 4,
 "nbformat_minor": 5
}
